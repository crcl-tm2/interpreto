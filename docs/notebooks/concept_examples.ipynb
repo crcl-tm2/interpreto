{
 "cells": [
  {
   "cell_type": "markdown",
   "metadata": {},
   "source": [
    "# Examples of how to build concept-based explanations"
   ]
  },
  {
   "cell_type": "markdown",
   "metadata": {},
   "source": [
    "Load the model and list modules to find where to split it."
   ]
  },
  {
   "cell_type": "code",
   "execution_count": null,
   "metadata": {},
   "outputs": [],
   "source": [
    "from transformers import AutoModelForCausalLM\n",
    "\n",
    "model = AutoModelForCausalLM.from_pretrained(\"gpt2\")\n",
    "\n",
    "print(list(model.named_children()))\n",
    "del model"
   ]
  },
  {
   "cell_type": "markdown",
   "metadata": {},
   "source": [
    "### Split the model using the `ModelWithSplitPoints` class"
   ]
  },
  {
   "cell_type": "code",
   "execution_count": 2,
   "metadata": {},
   "outputs": [],
   "source": [
    "from interpreto import ModelWithSplitPoints\n",
    "\n",
    "splitted_model = ModelWithSplitPoints(\n",
    "    model_or_repo_id=\"gpt2\",\n",
    "    split_points=\"transformer.h.1.mlp\",\n",
    "    model_autoclass=AutoModelForCausalLM,\n",
    ")"
   ]
  },
  {
   "cell_type": "markdown",
   "metadata": {},
   "source": [
    "### Load the dataset and compute activations"
   ]
  },
  {
   "cell_type": "code",
   "execution_count": 3,
   "metadata": {},
   "outputs": [
    {
     "name": "stderr",
     "output_type": "stream",
     "text": [
      "Using the latest cached version of the dataset since cornell-movie-review-data/rotten_tomatoes couldn't be found on the Hugging Face Hub\n",
      "Found the latest cached dataset configuration 'default' at /home/antonin.poche/.cache/huggingface/datasets/cornell-movie-review-data___rotten_tomatoes/default/0.0.0/aa13bc287fa6fcab6daf52f0dfb9994269ffea28 (last modified on Fri May 16 17:50:46 2025).\n"
     ]
    },
    {
     "ename": "",
     "evalue": "",
     "output_type": "error",
     "traceback": [
      "\u001b[1;31mThe Kernel crashed while executing code in the the current cell or a previous cell. Please review the code in the cell(s) to identify a possible cause of the failure. Click <a href='https://aka.ms/vscodeJupyterKernelCrash'>here</a> for more info. View Jupyter <a href='command:jupyter.viewOutput'>log</a> for further details."
     ]
    }
   ],
   "source": [
    "from datasets import load_dataset\n",
    "\n",
    "rotten_tomatoes = load_dataset(\"cornell-movie-review-data/rotten_tomatoes\")[\"train\"][\"text\"]\n",
    "\n",
    "activations = splitted_model.get_activations(\n",
    "    rotten_tomatoes[10:], select_strategy=ModelWithSplitPoints.activation_strategies.TOKENS\n",
    ")  # TODO: find why the kernel crashes\n",
    "# TODO make a test (maybe scaling) that would catch this\n",
    "\n",
    "print(activations.shape)"
   ]
  },
  {
   "cell_type": "markdown",
   "metadata": {},
   "source": [
    "### Create and fit the concept explainer"
   ]
  },
  {
   "cell_type": "code",
   "execution_count": null,
   "metadata": {},
   "outputs": [],
   "source": [
    "from interpreto.concepts import ICAConcepts\n",
    "\n",
    "concept_explainer = ICAConcepts(splitted_model, nb_concepts=10)\n",
    "\n",
    "concept_explainer.fit(activations)"
   ]
  },
  {
   "cell_type": "markdown",
   "metadata": {},
   "source": [
    "### Interpret the concepts"
   ]
  },
  {
   "cell_type": "code",
   "execution_count": 15,
   "metadata": {},
   "outputs": [],
   "source": [
    "from interpreto.concepts.interpretations import TopKInputs\n",
    "\n",
    "some_words = [\n",
    "    \"excellent\",\n",
    "    \"amazing\",\n",
    "    \"fantastic\",\n",
    "    \"outstanding\",\n",
    "    \"great\",\n",
    "    \"perfect\",\n",
    "    \"wonderful\",\n",
    "    \"superb\",\n",
    "    \"love\",\n",
    "    \"loved\",\n",
    "    \"satisfied\",\n",
    "    \"recommend\",\n",
    "    \"best\",\n",
    "    \"delightful\",\n",
    "    \"pleasant\",\n",
    "    \"enjoyed\",\n",
    "    \"happy\",\n",
    "    \"awesome\",\n",
    "    \"brilliant\",\n",
    "    \"incredible\",\n",
    "    \"flawless\",\n",
    "    \"impressive\",\n",
    "    \"top-notch\",\n",
    "    \"well-done\",\n",
    "    \"five stars\",\n",
    "    \"worth it\",\n",
    "    \"will buy again\",\n",
    "    \"high quality\",\n",
    "    \"fast delivery\",\n",
    "    \"friendlyterrible\",\n",
    "    \"awful\",\n",
    "    \"bad\",\n",
    "    \"poor\",\n",
    "    \"disappointing\",\n",
    "    \"hate\",\n",
    "    \"horrible\",\n",
    "    \"worst\",\n",
    "    \"boring\",\n",
    "    \"rude\",\n",
    "    \"unsatisfied\",\n",
    "    \"never again\",\n",
    "    \"waste\",\n",
    "    \"problem\",\n",
    "    \"issue\",\n",
    "    \"slow\",\n",
    "    \"cheap\",\n",
    "    \"low quality\",\n",
    "    \"broken\",\n",
    "    \"not recommended\",\n",
    "    \"annoying\",\n",
    "    \"frustrating\",\n",
    "    \"one star\",\n",
    "    \"unacceptable\",\n",
    "    \"defective\",\n",
    "    \"dirty\",\n",
    "    \"late delivery\",\n",
    "    \"noisy\",\n",
    "    \"difficult\",\n",
    "    \"didn't work\",\n",
    "]\n",
    "\n",
    "interpretations = concept_explainer.interpret(\n",
    "    TopKInputs,\n",
    "    concepts_indices=\"all\",\n",
    "    source=TopKInputs.sources.INPUTS,\n",
    "    granularity=TopKInputs.granularities.WORD,\n",
    "    inputs=some_words,\n",
    "    k=5,\n",
    ")"
   ]
  },
  {
   "cell_type": "code",
   "execution_count": null,
   "metadata": {},
   "outputs": [],
   "source": [
    "for concept_id, words_importance in interpretations.items():\n",
    "    print(f\"Concept {concept_id}: {words_importance}\")"
   ]
  }
 ],
 "metadata": {
  "language_info": {
   "name": "python"
  }
 },
 "nbformat": 4,
 "nbformat_minor": 2
}
