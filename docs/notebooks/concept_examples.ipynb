{
 "cells": [
  {
   "cell_type": "markdown",
   "metadata": {},
   "source": [
    "# Examples of how to build concept-based explanations"
   ]
  },
  {
   "cell_type": "markdown",
   "metadata": {},
   "source": [
    "Load the model and list modules to find where to split it."
   ]
  },
  {
   "cell_type": "code",
   "execution_count": 1,
   "metadata": {},
   "outputs": [
    {
     "name": "stdout",
     "output_type": "stream",
     "text": [
      "[('model', EuroBertModel(\n",
      "  (embed_tokens): Embedding(128256, 768, padding_idx=128001)\n",
      "  (layers): ModuleList(\n",
      "    (0-11): 12 x EuroBertDecoderLayer(\n",
      "      (self_attn): EuroBertAttention(\n",
      "        (q_proj): Linear(in_features=768, out_features=768, bias=False)\n",
      "        (k_proj): Linear(in_features=768, out_features=768, bias=False)\n",
      "        (v_proj): Linear(in_features=768, out_features=768, bias=False)\n",
      "        (o_proj): Linear(in_features=768, out_features=768, bias=False)\n",
      "      )\n",
      "      (mlp): EuroBertMLP(\n",
      "        (gate_proj): Linear(in_features=768, out_features=3072, bias=False)\n",
      "        (up_proj): Linear(in_features=768, out_features=3072, bias=False)\n",
      "        (down_proj): Linear(in_features=3072, out_features=768, bias=False)\n",
      "        (act_fn): SiLU()\n",
      "      )\n",
      "      (input_layernorm): EuroBertRMSNorm((768,), eps=1e-05)\n",
      "      (post_attention_layernorm): EuroBertRMSNorm((768,), eps=1e-05)\n",
      "    )\n",
      "  )\n",
      "  (norm): EuroBertRMSNorm((768,), eps=1e-05)\n",
      "  (rotary_emb): EuroBertRotaryEmbedding()\n",
      ")), ('lm_head', Linear(in_features=768, out_features=128256, bias=False))]\n"
     ]
    }
   ],
   "source": [
    "from transformers import AutoModelForMaskedLM, AutoTokenizer\n",
    "\n",
    "model = AutoModelForMaskedLM.from_pretrained(\"EuroBERT/EuroBERT-210m\", trust_remote_code=True)\n",
    "tokenizer = AutoTokenizer.from_pretrained(\"EuroBERT/EuroBERT-210m\")\n",
    "split_point = \"model.layers.10.mlp\"\n",
    "\n",
    "print(list(model.named_children()))"
   ]
  },
  {
   "cell_type": "markdown",
   "metadata": {},
   "source": [
    "### Split the model using the `ModelWithSplitPoints` class"
   ]
  },
  {
   "cell_type": "code",
   "execution_count": 2,
   "metadata": {},
   "outputs": [],
   "source": [
    "from interpreto import ModelWithSplitPoints\n",
    "\n",
    "splitted_model = ModelWithSplitPoints(\n",
    "    model_or_repo_id=model,\n",
    "    tokenizer=tokenizer,\n",
    "    split_points=split_point,\n",
    "    device_map=\"cuda\",\n",
    "    batch_size=64,\n",
    ")"
   ]
  },
  {
   "cell_type": "markdown",
   "metadata": {},
   "source": [
    "### Load the dataset and compute activations"
   ]
  },
  {
   "cell_type": "code",
   "execution_count": 3,
   "metadata": {},
   "outputs": [
    {
     "name": "stderr",
     "output_type": "stream",
     "text": [
      "Asking to truncate to max_length but no maximum length is provided and the model has no predefined maximum length. Default to no truncation.\n"
     ]
    },
    {
     "name": "stdout",
     "output_type": "stream",
     "text": [
      "torch.Size([187890, 768])\n"
     ]
    }
   ],
   "source": [
    "from datasets import load_dataset\n",
    "\n",
    "rotten_tomatoes = load_dataset(\"cornell-movie-review-data/rotten_tomatoes\")[\"train\"][\"text\"]\n",
    "\n",
    "activations = splitted_model.get_activations(\n",
    "    rotten_tomatoes,\n",
    "    select_strategy=ModelWithSplitPoints.activation_strategies.WORD,\n",
    ")\n",
    "\n",
    "print(activations[split_point].shape)"
   ]
  },
  {
   "cell_type": "markdown",
   "metadata": {},
   "source": [
    "### Create and fit the concept explainer"
   ]
  },
  {
   "cell_type": "code",
   "execution_count": 9,
   "metadata": {},
   "outputs": [],
   "source": [
    "from interpreto.concepts import ICAConcepts\n",
    "\n",
    "concept_explainer = ICAConcepts(splitted_model, nb_concepts=50)\n",
    "\n",
    "concept_explainer.fit(activations)"
   ]
  },
  {
   "cell_type": "markdown",
   "metadata": {},
   "source": [
    "### Interpret the concepts"
   ]
  },
  {
   "cell_type": "code",
   "execution_count": 10,
   "metadata": {},
   "outputs": [],
   "source": [
    "from interpreto.concepts.interpretations import TopKInputs\n",
    "\n",
    "interpretations = concept_explainer.interpret(\n",
    "    TopKInputs,\n",
    "    concepts_indices=\"all\",\n",
    "    source=TopKInputs.sources.LATENT_ACTIVATIONS,\n",
    "    granularity=TopKInputs.granularities.WORD,\n",
    "    inputs=rotten_tomatoes,\n",
    "    latent_activations=activations,\n",
    "    k=10,\n",
    ")"
   ]
  },
  {
   "cell_type": "code",
   "execution_count": 11,
   "metadata": {},
   "outputs": [
    {
     "name": "stdout",
     "output_type": "stream",
     "text": [
      "Concept 0: [' one', ' only', ' few', ' little', ' small', ' just', ' bit', ' times', ' least', ' seldom']\n",
      "Concept 1: [' involved', ' town', ' surroundings', ' engaged', ' over', ' alive', ' around', ' going', ' on', ' underway']\n",
      "Concept 2: [' probably', ' us', ' me', ' imagine', ' seems', ' be', ' one', ' maybe', ' generally', ' perhaps']\n",
      "Concept 3: ['.', ',', ' )', ' *', ' -', ' t', ' (', '?', ' s', '+']\n",
      "Concept 4: [' inhabit', ' below', ' expressed', ' beneath', ' reflect', ' haunting', ' live', ' indulge', ' deferred', ' distancing']\n",
      "Concept 5: [' for', 'for', '-for', ' on', ' para', ' every', ' than', ' everyone', ' strongly', ' constantly']\n",
      "Concept 6: [' makes', ' make', ' made', ' lifts', ' leaves', ' render', ' making', ' sent', ' leave', ' keep']\n",
      "Concept 7: [' deal', ' sustain', ' minutes', ' once', ' day', '-minute', ' champion', ' off', ' help', ' heavily']\n",
      "Concept 8: ['.', '!', ',', '?', ' )', \"'\", \" '\", ' \"', ' ;', '-']\n",
      "Concept 9: [' surprising', ' breakthrough', ' believe', ' most', ' superb', ' confirms', ' astonishing', ' wait', ' from', ' impressive']\n",
      "Concept 10: [' more', ' less', 'more', ' better', ' greater', ' most', ' fewer', ' easier', ' longer', ' cleaner']\n",
      "Concept 11: [' performances', ' acting', ' performance', ' acted', ' shot', ' execution', ' pace', ' staged', ' scene', ' animation']\n",
      "Concept 12: ['-conscious', ' sophisticated', ' restrained', ' competent', ' erratic', ' clumsy', ' engaging', ' subtle', ' embracing', ' sincere']\n",
      "Concept 13: [' life', ' say', ' sweet', ' on', ' when', ' mature', ' of', ' ends', ' love', ' do']\n",
      "Concept 14: [' as', ' bad', ' worst', ' good', '-good', ' by', ' value', ' bite', ' best', '-haired']\n",
      "Concept 15: [' to', ' into', '-to', ' toward', ' reach', ' in', ' there', ' through', 'to', ' a']\n",
      "Concept 16: [' had', ' has', ' hasn', ' have', ' haven', ' hadn', ' what', ' been', ' didn', ' having']\n",
      "Concept 17: [',', ' )', ' ;', ' :', ' --', '.', '?', ' -', '!', ' \"']\n",
      "Concept 18: [' journey', ' insight', ' vision', ' view', ' look', ' investigation', ' comprehension', ' examination', ' perspective', ' observations']\n",
      "Concept 19: [' on', ' through', ' into', ' mind', ' up', ' time', ' minds', ' along', '22', ' forward']\n",
      "Concept 20: [' see', ' watch', ' through', ' missing', ' all', ' catch', ' seen', ' every', ' watching', ' seeing']\n",
      "Concept 21: [' sink', ' shines', ' thump', ' rip', ' whirl', ' sting', ' twists', ' bites', ' blackout', ' tunes']\n",
      "Concept 22: ['it', ' tells', ' of', ' kind', 'stale', ' than', '.', ' it', ' shows', ' seem']\n",
      "Concept 23: [' all', ' two', ' everything', ' beyond', ' under', 'th', ' above', ' three', ' seven', ' southern']\n",
      "Concept 24: [' genesis', ' success', ' reason', ' need', ' reasons', ' sense', ' appreciate', ' admirable', ' passion', ' purpose']\n",
      "Concept 25: [\"'s\", ' his', ' its', \"'\", ' their', ' your', ' her', ' su', 's', ' sus']\n",
      "Concept 26: [' and', 'and', '-and', ' y', ' &', ' e', ' or', ' as', ' nor', ',']\n",
      "Concept 27: [' may', ' can', ' could', ' might', ' would', ' will', ' must', ' wouldn', ' won', 'may']\n",
      "Concept 28: [\"'t\", ' not', 'not', ' never', 'no', ' t', ' no', ' none', ' cannot', ' não']\n",
      "Concept 29: [' film', ' films', ' movie', ' filme', ' movies', ' cinema', ' filmes', ' película', ' cine', ' documentary']\n",
      "Concept 30: [' see', ' seen', ' seeing', ' read', ' watching', ' watch', ' sees', ' find', ' like', ' admire']\n",
      "Concept 31: [' on', ' about', ' upon', ' at', 'about', ' into', ' over', ' understanding', ' explores', ' understand']\n",
      "Concept 32: [' than', ' as', ' aren', ' but', ' transcend', ' without', ' nor', ' at', ' unless', '-than']\n",
      "Concept 33: [' to', 'to', '-to', ' a', ' and', ' para', ' de', ' ao', '-together', ' can']\n",
      "Concept 34: [' of', 'of', ' de', ' or', ' del', ' da', ' to', ' dos', '-of', ' do']\n",
      "Concept 35: [' text', ' if', ' impossible', ' clear', ' filled', ' line', ' ready', ' failed', ' title', ' concerned']\n",
      "Concept 36: [' a', ' an', 'a', ' another', ' one', 'an', ' some', 'one', ' um', '-a']\n",
      "Concept 37: [' that', ' which', ' who', ' que', ' whom', ' whose', ' new', 'what', ' qui', ' what']\n",
      "Concept 38: [' latest', ' moments', ' next', ' if', ' single', ' another', ' sometimes', ' moment', ' last', ' one']\n",
      "Concept 39: [' is', ' isn', ' was', ' are', ' wasn', ' doesn', ' aren', ' were', ' be', ' has']\n",
      "Concept 40: [' as', ' so', ' such', 'so', ' that', ' too', 'as', ' like', ' how', 'such']\n",
      "Concept 41: [' with', 'with', ' com', ' con', '\\x85with', ' by', ' appreciate', ' using', ' to', ' like']\n",
      "Concept 42: [' by', ' from', ' por', 'by', ' pelo', 'from', ' since', ' da', ' through', ' before']\n",
      "Concept 43: [' to', ' be', ' note', 'not', ' takes', ' not', ' didn', ' done', ' give', ' testimony']\n",
      "Concept 44: [' most', ' mainstream', ' mainly', ' several', 'most', ' mediocre', ' handful', ' mostly', ' certain', ' many']\n",
      "Concept 45: [' the', 'this', 'the', ' this', ' these', 'these', 'that', ' that', ' those', ' his']\n",
      "Concept 46: [' between', ' war', ' problem', ' lack', ' trouble', ' from', ' of', ' that', ' not', ' problems']\n",
      "Concept 47: [' be', ' have', ' been', ' being', ' are', ' go', ' become', ' prove', '-be', ' come']\n",
      "Concept 48: [' but', 'but', ' pero', ' however', ' although', ' yet', ' though', ' only', ' mas', ' except']\n",
      "Concept 49: [' a', ' the', ' ', ' his', ' my', ' an', ' her', ' la', ' its', ' awful']\n"
     ]
    }
   ],
   "source": [
    "for concept_id, words_importance in interpretations.items():\n",
    "    print(f\"Concept {concept_id}: {list(words_importance.keys()) if words_importance is not None else 'None'}\")"
   ]
  },
  {
   "cell_type": "code",
   "execution_count": null,
   "metadata": {},
   "outputs": [],
   "source": []
  }
 ],
 "metadata": {
  "language_info": {
   "name": "python"
  }
 },
 "nbformat": 4,
 "nbformat_minor": 2
}
