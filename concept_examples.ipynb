{
 "cells": [
  {
   "cell_type": "markdown",
   "metadata": {},
   "source": [
    "# Examples of how to build concept-based explanations"
   ]
  },
  {
   "cell_type": "markdown",
   "metadata": {},
   "source": [
    "Load the model and list modules to find where to split it."
   ]
  },
  {
   "cell_type": "code",
   "execution_count": null,
   "metadata": {},
   "outputs": [],
   "source": [
    "from transformers import AutoModelForCausalLM\n",
    "\n",
    "model = AutoModelForCausalLM.from_pretrained(\"gpt2\")\n",
    "\n",
    "print(list(model.named_children()))\n",
    "del model"
   ]
  },
  {
   "cell_type": "markdown",
   "metadata": {},
   "source": [
    "### Split the model using the `ModelWithSplitPoints` class"
   ]
  },
  {
   "cell_type": "code",
   "execution_count": null,
   "metadata": {},
   "outputs": [],
   "source": [
    "from interpreto import ModelWithSplitPoints\n",
    "\n",
    "splitted_model = ModelWithSplitPoints(\n",
    "    model_or_repo_id=\"gpt2\",\n",
    "    split_points=\"transformer.h.1.mlp\",\n",
    "    model_autoclass=AutoModelForCausalLM,\n",
    ")"
   ]
  },
  {
   "cell_type": "markdown",
   "metadata": {},
   "source": [
    "### Load the dataset and compute activations"
   ]
  },
  {
   "cell_type": "code",
   "execution_count": null,
   "metadata": {},
   "outputs": [],
   "source": [
    "from datasets import load_dataset\n",
    "\n",
    "rotten_tomatoes = load_dataset(\"cornell-movie-review-data/rotten_tomatoes\")[\"train\"][\"text\"]\n",
    "\n",
    "activations = splitted_model.get_activations(rotten_tomatoes[100:])\n",
    "\n",
    "activations[\"transformer.h.1.mlp\"].shape"
   ]
  },
  {
   "cell_type": "markdown",
   "metadata": {},
   "source": [
    "### Create and fit the concept explainer"
   ]
  },
  {
   "cell_type": "code",
   "execution_count": null,
   "metadata": {},
   "outputs": [],
   "source": [
    "from interpreto.concepts import ICAConcepts\n",
    "\n",
    "concept_explainer = ICAConcepts(splitted_model, nb_concepts=10)\n",
    "\n",
    "concept_explainer.fit(activations)"
   ]
  },
  {
   "cell_type": "markdown",
   "metadata": {},
   "source": [
    "### Interpret the concepts"
   ]
  },
  {
   "cell_type": "code",
   "execution_count": null,
   "metadata": {},
   "outputs": [],
   "source": [
    "import os\n",
    "\n",
    "from interpreto.concepts.interpretations.llm_labels import SAMPLING_METHOD, LLMLabels\n",
    "from interpreto.model_wrapping.llm_interface import OpenAILLM\n",
    "from interpreto.model_wrapping.model_with_split_points import ActivationGranularity\n",
    "\n",
    "interpretations = concept_explainer.interpret(\n",
    "    LLMLabels,\n",
    "    concepts_indices=[0, 1, 2],\n",
    "    activation_granularity=ActivationGranularity.SAMPLE,\n",
    "    llm_interface=OpenAILLM(api_key=os.environ[\"OPENAI_API_KEY\"]),\n",
    "    sampling_method=SAMPLING_METHOD.TOP,\n",
    "    inputs=rotten_tomatoes[:20],\n",
    "    k_context=3,\n",
    ")"
   ]
  },
  {
   "cell_type": "code",
   "execution_count": null,
   "metadata": {},
   "outputs": [],
   "source": [
    "interpretations"
   ]
  }
 ],
 "metadata": {
  "kernelspec": {
   "display_name": ".venv",
   "language": "python",
   "name": "python3"
  },
  "language_info": {
   "codemirror_mode": {
    "name": "ipython",
    "version": 3
   },
   "file_extension": ".py",
   "mimetype": "text/x-python",
   "name": "python",
   "nbconvert_exporter": "python",
   "pygments_lexer": "ipython3",
   "version": "3.12.9"
  }
 },
 "nbformat": 4,
 "nbformat_minor": 2
}
