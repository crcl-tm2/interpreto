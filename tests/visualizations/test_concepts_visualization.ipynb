{
 "cells": [
  {
   "cell_type": "code",
   "execution_count": 1,
   "metadata": {},
   "outputs": [],
   "source": [
    "%load_ext autoreload\n",
    "%autoreload 2"
   ]
  },
  {
   "cell_type": "code",
   "execution_count": 2,
   "metadata": {},
   "outputs": [],
   "source": [
    "import sys\n",
    "\n",
    "import torch\n",
    "from matplotlib import pyplot as plt\n",
    "\n",
    "sys.path.append(\"../..\")\n",
    "from interpreto.attributions.base import AttributionOutput\n",
    "from interpreto.visualizations.concepts.concepts_highlight import ConceptHighlightVisualization"
   ]
  },
  {
   "cell_type": "code",
   "execution_count": null,
   "metadata": {},
   "outputs": [],
   "source": [
    "# Concepts: 9 concepts (with inputs attributions for each output word)\n",
    "inputs_sentence = [\"A\", \"B\", \"C\", \" \", \"one \", \"two \", \"three\"]\n",
    "outputs_sentence = [\n",
    "    \"A\",\n",
    "    \"B\",\n",
    "    \"C\",\n",
    "    \" \",\n",
    "    \"look\",\n",
    "    \" \",\n",
    "    \"behind\",\n",
    "    \" \",\n",
    "    \"you\",\n",
    "    \" : \",\n",
    "    \"there\",\n",
    "    \" \",\n",
    "    \"is\",\n",
    "    \" \",\n",
    "    \"a\",\n",
    "    \" \",\n",
    "    \"monster\",\n",
    "    \" \",\n",
    "    \"under\",\n",
    "    \" \",\n",
    "    \"the\",\n",
    "    \" \",\n",
    "    \"bed\",\n",
    "    \"!!!\",\n",
    "]\n",
    "nb_concepts = 9\n",
    "\n",
    "\n",
    "def make_attributions_outputs(inputs, outputs):\n",
    "    attributions = torch.rand(len(inputs) + len(outputs), len(outputs), nb_concepts)  # (l, l_g, c)\n",
    "    return AttributionOutput(elements=inputs + outputs, attributions=attributions)\n",
    "\n",
    "\n",
    "generation_output = make_attributions_outputs(inputs_sentence, outputs_sentence)\n",
    "print(f\"{generation_output.attributions.shape = }\")\n",
    "\n",
    "generation_output.attributions[0, 0, :] = (\n",
    "    10.0  # to check the normalization, when selecting output 0, the input 0 should be the most important for all the concepts\n",
    ")"
   ]
  },
  {
   "cell_type": "code",
   "execution_count": 4,
   "metadata": {},
   "outputs": [],
   "source": [
    "# create concept colors from the Set1 colormap\n",
    "colors_set1 = plt.get_cmap(\"Set1\").colors"
   ]
  },
  {
   "cell_type": "code",
   "execution_count": null,
   "metadata": {},
   "outputs": [],
   "source": [
    "viz = ConceptHighlightVisualization(\n",
    "    generation_output,\n",
    "    normalize=False,\n",
    "    concepts_colors=colors_set1,\n",
    ")\n",
    "viz.display()"
   ]
  },
  {
   "cell_type": "code",
   "execution_count": 6,
   "metadata": {},
   "outputs": [],
   "source": [
    "# viz.save(\"concepts.html\")"
   ]
  }
 ],
 "metadata": {
  "kernelspec": {
   "display_name": ".venv",
   "language": "python",
   "name": "python3"
  },
  "language_info": {
   "codemirror_mode": {
    "name": "ipython",
    "version": 3
   },
   "file_extension": ".py",
   "mimetype": "text/x-python",
   "name": "python",
   "nbconvert_exporter": "python",
   "pygments_lexer": "ipython3",
   "version": "3.10.16"
  }
 },
 "nbformat": 4,
 "nbformat_minor": 2
}
